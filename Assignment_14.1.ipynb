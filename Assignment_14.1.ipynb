{
 "cells": [
  {
   "cell_type": "markdown",
   "metadata": {},
   "source": [
    "## Problem Statement\n",
    "<b>In this assignment students need to predict whether a person makes over 50K per year or not from classic adult dataset using XGBoost. The description of the dataset is as follows: </b>"
   ]
  },
  {
   "cell_type": "markdown",
   "metadata": {},
   "source": [
    "<b>Data Set Information:</b>\n",
    "<br>Extraction was done by Barry Becker from the 1994 Census database. A set of reasonably clean records was extracted using the following conditions: ((AAGE>16) && (AGI>100) && (AFNLWGT>1)&& (HRSWK>0))\n",
    "\n",
    "<b>Attribute Information:</b>\n",
    "<br>Listing of attributes:\n",
    "<br>target:>50K, <=50K.\n",
    "<br>age: continuous.\n",
    "<br>workclass: Private, Self-emp-not-inc, Self-emp-inc, Federal-gov, Local-gov, State-gov,\n",
    "<br>Without-pay, Never-worked.\n",
    "<br>fnlwgt: continuous.\n",
    "<br>education: Bachelors, Some-college, 11th, HS-grad, Prof-school, Assoc-acdm, Assoc-voc, 9th, 7th-8th, 12th, Masters, 1st-4th, 10th, Doctorate, 5th-6th, Preschool.\n",
    "<br>education-num: continuous.\n",
    "<br>marital-status: Married-civ-spouse, Divorced, Never-married, Separated, Widowed,Married-spouse-absent, Married-AF-spouse.\n",
    "<br>occupation: Tech-support, Craft-repair, Other-service, Sales, Exec-managerial,Prof-specialty, Handlers-cleaners, Machine-op-inspct, Adm-clerical, Farming-fishing,Transport-moving, Priv-house-serv, Protective-serv, Armed-Forces.\n",
    "<br>relationship: Wife, Own-child, Husband, Not-in-family, Other-relative, Unmarried.\n",
    "<br>race: White, Asian-Pac-Islander, Amer-Indian-Eskimo, Other, Black.\n",
    "<br>sex: Female, Male.\n",
    "<br>capital-gain: continuous.\n",
    "<br>capital-loss: continuous.\n",
    "<br>hours-per-week: continuous.\n",
    "<br>native-country: United-States, Cambodia, England, Puerto-Rico, Canada, Germany,Outlying-US(Guam-USVI-etc), India, Japan, Greece, South, China, Cuba, Iran, Honduras,Philippines, Italy, Poland, Jamaica, Vietnam, Mexico, Portugal, Ireland, France,Dominican-Republic, Laos, Ecuador, Taiwan, Haiti, Columbia, Hungary, Guatemala,Nicaragua, Scotland, Thailand, Yugoslavia, El-Salvador, Trinadad&Tobago, Peru, Hong,Holand-Netherlands."
   ]
  },
  {
   "cell_type": "markdown",
   "metadata": {},
   "source": [
    "<b>Following is the code to load required libraries and data:</b>"
   ]
  },
  {
   "cell_type": "code",
   "execution_count": 1,
   "metadata": {},
   "outputs": [],
   "source": [
    "import numpy as np\n",
    "import pandas as pd\n",
    "from sklearn.metrics import roc_auc_score\n",
    "from sklearn.model_selection import train_test_split, cross_val_score\n",
    "import xgboost as xgb"
   ]
  },
  {
   "cell_type": "code",
   "execution_count": 2,
   "metadata": {},
   "outputs": [],
   "source": [
    "train_set = pd.read_csv('http://archive.ics.uci.edu/ml/machine-learning-databases/adult/adult.data', header = None)\n",
    "test_set = pd.read_csv('http://archive.ics.uci.edu/ml/machine-learning-databases/adult/adult.test', skiprows = 1, header = None)"
   ]
  },
  {
   "cell_type": "code",
   "execution_count": 3,
   "metadata": {},
   "outputs": [],
   "source": [
    "col_labels = ['age', 'workclass', 'fnlwgt', 'education', 'education_num', 'marital_status','occupation','relationship',\n",
    "              'race', 'sex', 'capital_gain', 'capital_loss', 'hours_per_week', 'native_country', 'wage_class']\n",
    "train_set.columns = col_labels\n",
    "test_set.columns = col_labels"
   ]
  },
  {
   "cell_type": "code",
   "execution_count": 4,
   "metadata": {},
   "outputs": [
    {
     "data": {
      "text/plain": [
       "(32561, 15)"
      ]
     },
     "execution_count": 4,
     "metadata": {},
     "output_type": "execute_result"
    }
   ],
   "source": [
    "train_set.shape"
   ]
  },
  {
   "cell_type": "code",
   "execution_count": 5,
   "metadata": {},
   "outputs": [
    {
     "data": {
      "text/plain": [
       "(16281, 15)"
      ]
     },
     "execution_count": 5,
     "metadata": {},
     "output_type": "execute_result"
    }
   ],
   "source": [
    "test_set.shape"
   ]
  },
  {
   "cell_type": "code",
   "execution_count": 6,
   "metadata": {},
   "outputs": [
    {
     "data": {
      "text/plain": [
       "age               0\n",
       "workclass         0\n",
       "fnlwgt            0\n",
       "education         0\n",
       "education_num     0\n",
       "marital_status    0\n",
       "occupation        0\n",
       "relationship      0\n",
       "race              0\n",
       "sex               0\n",
       "capital_gain      0\n",
       "capital_loss      0\n",
       "hours_per_week    0\n",
       "native_country    0\n",
       "wage_class        0\n",
       "dtype: int64"
      ]
     },
     "execution_count": 6,
     "metadata": {},
     "output_type": "execute_result"
    }
   ],
   "source": [
    "train_set.isnull().sum()"
   ]
  },
  {
   "cell_type": "code",
   "execution_count": 7,
   "metadata": {},
   "outputs": [],
   "source": [
    "# set training and test indicator for the data and combine training and test set for data cleaning.\n",
    "train_set['train_ind'] = 1\n",
    "test_set['train_ind'] = 0\n",
    "combined_data = train_set.append(test_set)"
   ]
  },
  {
   "cell_type": "code",
   "execution_count": 8,
   "metadata": {},
   "outputs": [
    {
     "data": {
      "text/plain": [
       "(48842, 16)"
      ]
     },
     "execution_count": 8,
     "metadata": {},
     "output_type": "execute_result"
    }
   ],
   "source": [
    "combined_data.shape"
   ]
  },
  {
   "cell_type": "code",
   "execution_count": 9,
   "metadata": {},
   "outputs": [
    {
     "data": {
      "text/html": [
       "<div>\n",
       "<style scoped>\n",
       "    .dataframe tbody tr th:only-of-type {\n",
       "        vertical-align: middle;\n",
       "    }\n",
       "\n",
       "    .dataframe tbody tr th {\n",
       "        vertical-align: top;\n",
       "    }\n",
       "\n",
       "    .dataframe thead th {\n",
       "        text-align: right;\n",
       "    }\n",
       "</style>\n",
       "<table border=\"1\" class=\"dataframe\">\n",
       "  <thead>\n",
       "    <tr style=\"text-align: right;\">\n",
       "      <th></th>\n",
       "      <th>age</th>\n",
       "      <th>fnlwgt</th>\n",
       "      <th>education_num</th>\n",
       "      <th>capital_gain</th>\n",
       "      <th>capital_loss</th>\n",
       "      <th>hours_per_week</th>\n",
       "      <th>train_ind</th>\n",
       "    </tr>\n",
       "  </thead>\n",
       "  <tbody>\n",
       "    <tr>\n",
       "      <th>count</th>\n",
       "      <td>48842.000000</td>\n",
       "      <td>4.884200e+04</td>\n",
       "      <td>48842.000000</td>\n",
       "      <td>48842.000000</td>\n",
       "      <td>48842.000000</td>\n",
       "      <td>48842.000000</td>\n",
       "      <td>48842.000000</td>\n",
       "    </tr>\n",
       "    <tr>\n",
       "      <th>mean</th>\n",
       "      <td>38.643585</td>\n",
       "      <td>1.896641e+05</td>\n",
       "      <td>10.078089</td>\n",
       "      <td>1079.067626</td>\n",
       "      <td>87.502314</td>\n",
       "      <td>40.422382</td>\n",
       "      <td>0.666660</td>\n",
       "    </tr>\n",
       "    <tr>\n",
       "      <th>std</th>\n",
       "      <td>13.710510</td>\n",
       "      <td>1.056040e+05</td>\n",
       "      <td>2.570973</td>\n",
       "      <td>7452.019058</td>\n",
       "      <td>403.004552</td>\n",
       "      <td>12.391444</td>\n",
       "      <td>0.471412</td>\n",
       "    </tr>\n",
       "    <tr>\n",
       "      <th>min</th>\n",
       "      <td>17.000000</td>\n",
       "      <td>1.228500e+04</td>\n",
       "      <td>1.000000</td>\n",
       "      <td>0.000000</td>\n",
       "      <td>0.000000</td>\n",
       "      <td>1.000000</td>\n",
       "      <td>0.000000</td>\n",
       "    </tr>\n",
       "    <tr>\n",
       "      <th>25%</th>\n",
       "      <td>28.000000</td>\n",
       "      <td>1.175505e+05</td>\n",
       "      <td>9.000000</td>\n",
       "      <td>0.000000</td>\n",
       "      <td>0.000000</td>\n",
       "      <td>40.000000</td>\n",
       "      <td>0.000000</td>\n",
       "    </tr>\n",
       "    <tr>\n",
       "      <th>50%</th>\n",
       "      <td>37.000000</td>\n",
       "      <td>1.781445e+05</td>\n",
       "      <td>10.000000</td>\n",
       "      <td>0.000000</td>\n",
       "      <td>0.000000</td>\n",
       "      <td>40.000000</td>\n",
       "      <td>1.000000</td>\n",
       "    </tr>\n",
       "    <tr>\n",
       "      <th>75%</th>\n",
       "      <td>48.000000</td>\n",
       "      <td>2.376420e+05</td>\n",
       "      <td>12.000000</td>\n",
       "      <td>0.000000</td>\n",
       "      <td>0.000000</td>\n",
       "      <td>45.000000</td>\n",
       "      <td>1.000000</td>\n",
       "    </tr>\n",
       "    <tr>\n",
       "      <th>max</th>\n",
       "      <td>90.000000</td>\n",
       "      <td>1.490400e+06</td>\n",
       "      <td>16.000000</td>\n",
       "      <td>99999.000000</td>\n",
       "      <td>4356.000000</td>\n",
       "      <td>99.000000</td>\n",
       "      <td>1.000000</td>\n",
       "    </tr>\n",
       "  </tbody>\n",
       "</table>\n",
       "</div>"
      ],
      "text/plain": [
       "                age        fnlwgt  education_num  capital_gain  capital_loss  \\\n",
       "count  48842.000000  4.884200e+04   48842.000000  48842.000000  48842.000000   \n",
       "mean      38.643585  1.896641e+05      10.078089   1079.067626     87.502314   \n",
       "std       13.710510  1.056040e+05       2.570973   7452.019058    403.004552   \n",
       "min       17.000000  1.228500e+04       1.000000      0.000000      0.000000   \n",
       "25%       28.000000  1.175505e+05       9.000000      0.000000      0.000000   \n",
       "50%       37.000000  1.781445e+05      10.000000      0.000000      0.000000   \n",
       "75%       48.000000  2.376420e+05      12.000000      0.000000      0.000000   \n",
       "max       90.000000  1.490400e+06      16.000000  99999.000000   4356.000000   \n",
       "\n",
       "       hours_per_week     train_ind  \n",
       "count    48842.000000  48842.000000  \n",
       "mean        40.422382      0.666660  \n",
       "std         12.391444      0.471412  \n",
       "min          1.000000      0.000000  \n",
       "25%         40.000000      0.000000  \n",
       "50%         40.000000      1.000000  \n",
       "75%         45.000000      1.000000  \n",
       "max         99.000000      1.000000  "
      ]
     },
     "execution_count": 9,
     "metadata": {},
     "output_type": "execute_result"
    }
   ],
   "source": [
    "combined_data.describe()"
   ]
  },
  {
   "cell_type": "code",
   "execution_count": 10,
   "metadata": {},
   "outputs": [
    {
     "data": {
      "text/html": [
       "<div>\n",
       "<style scoped>\n",
       "    .dataframe tbody tr th:only-of-type {\n",
       "        vertical-align: middle;\n",
       "    }\n",
       "\n",
       "    .dataframe tbody tr th {\n",
       "        vertical-align: top;\n",
       "    }\n",
       "\n",
       "    .dataframe thead th {\n",
       "        text-align: right;\n",
       "    }\n",
       "</style>\n",
       "<table border=\"1\" class=\"dataframe\">\n",
       "  <thead>\n",
       "    <tr style=\"text-align: right;\">\n",
       "      <th></th>\n",
       "      <th>workclass</th>\n",
       "      <th>education</th>\n",
       "      <th>marital_status</th>\n",
       "      <th>occupation</th>\n",
       "      <th>relationship</th>\n",
       "      <th>race</th>\n",
       "      <th>sex</th>\n",
       "      <th>native_country</th>\n",
       "      <th>wage_class</th>\n",
       "    </tr>\n",
       "  </thead>\n",
       "  <tbody>\n",
       "    <tr>\n",
       "      <th>count</th>\n",
       "      <td>48842</td>\n",
       "      <td>48842</td>\n",
       "      <td>48842</td>\n",
       "      <td>48842</td>\n",
       "      <td>48842</td>\n",
       "      <td>48842</td>\n",
       "      <td>48842</td>\n",
       "      <td>48842</td>\n",
       "      <td>48842</td>\n",
       "    </tr>\n",
       "    <tr>\n",
       "      <th>unique</th>\n",
       "      <td>9</td>\n",
       "      <td>16</td>\n",
       "      <td>7</td>\n",
       "      <td>15</td>\n",
       "      <td>6</td>\n",
       "      <td>5</td>\n",
       "      <td>2</td>\n",
       "      <td>42</td>\n",
       "      <td>4</td>\n",
       "    </tr>\n",
       "    <tr>\n",
       "      <th>top</th>\n",
       "      <td>Private</td>\n",
       "      <td>HS-grad</td>\n",
       "      <td>Married-civ-spouse</td>\n",
       "      <td>Prof-specialty</td>\n",
       "      <td>Husband</td>\n",
       "      <td>White</td>\n",
       "      <td>Male</td>\n",
       "      <td>United-States</td>\n",
       "      <td>&lt;=50K</td>\n",
       "    </tr>\n",
       "    <tr>\n",
       "      <th>freq</th>\n",
       "      <td>33906</td>\n",
       "      <td>15784</td>\n",
       "      <td>22379</td>\n",
       "      <td>6172</td>\n",
       "      <td>19716</td>\n",
       "      <td>41762</td>\n",
       "      <td>32650</td>\n",
       "      <td>43832</td>\n",
       "      <td>24720</td>\n",
       "    </tr>\n",
       "  </tbody>\n",
       "</table>\n",
       "</div>"
      ],
      "text/plain": [
       "       workclass education       marital_status       occupation relationship  \\\n",
       "count      48842     48842                48842            48842        48842   \n",
       "unique         9        16                    7               15            6   \n",
       "top      Private   HS-grad   Married-civ-spouse   Prof-specialty      Husband   \n",
       "freq       33906     15784                22379             6172        19716   \n",
       "\n",
       "          race    sex  native_country wage_class  \n",
       "count    48842  48842           48842      48842  \n",
       "unique       5      2              42          4  \n",
       "top      White   Male   United-States      <=50K  \n",
       "freq     41762  32650           43832      24720  "
      ]
     },
     "execution_count": 10,
     "metadata": {},
     "output_type": "execute_result"
    }
   ],
   "source": [
    "combined_data.describe(include = 'O')"
   ]
  },
  {
   "cell_type": "code",
   "execution_count": 11,
   "metadata": {},
   "outputs": [],
   "source": [
    "# replace '?' values with nulls.\n",
    "df1 = combined_data.replace(' ?', np.nan)"
   ]
  },
  {
   "cell_type": "code",
   "execution_count": 12,
   "metadata": {},
   "outputs": [
    {
     "data": {
      "text/plain": [
       "age                  0\n",
       "workclass         2799\n",
       "fnlwgt               0\n",
       "education            0\n",
       "education_num        0\n",
       "marital_status       0\n",
       "occupation        2809\n",
       "relationship         0\n",
       "race                 0\n",
       "sex                  0\n",
       "capital_gain         0\n",
       "capital_loss         0\n",
       "hours_per_week       0\n",
       "native_country     857\n",
       "wage_class           0\n",
       "train_ind            0\n",
       "dtype: int64"
      ]
     },
     "execution_count": 12,
     "metadata": {},
     "output_type": "execute_result"
    }
   ],
   "source": [
    "df1.isnull().sum()"
   ]
  },
  {
   "cell_type": "code",
   "execution_count": 13,
   "metadata": {},
   "outputs": [],
   "source": [
    "#fill nulls with the value 'unknown'\n",
    "df1.fillna(' unknown', inplace = True)"
   ]
  },
  {
   "cell_type": "code",
   "execution_count": 14,
   "metadata": {},
   "outputs": [
    {
     "data": {
      "text/plain": [
       "array([' <=50K', ' >50K', ' <=50K.', ' >50K.'], dtype=object)"
      ]
     },
     "execution_count": 14,
     "metadata": {},
     "output_type": "execute_result"
    }
   ],
   "source": [
    "df1['wage_class'].unique()"
   ]
  },
  {
   "cell_type": "code",
   "execution_count": 15,
   "metadata": {},
   "outputs": [],
   "source": [
    "# target variable wage_class is having 4 values. we will combine ' <=50K' and ' <=50K.' as one value \n",
    "# and the remaining two values as one value\n",
    "df1['target_variable'] = 0\n",
    "df1.loc[df1['wage_class'] == ' >50K' ,'target_variable'] = 1\n",
    "df1.loc[df1['wage_class'] == ' >50K.' ,'target_variable'] = 1"
   ]
  },
  {
   "cell_type": "code",
   "execution_count": 16,
   "metadata": {},
   "outputs": [
    {
     "data": {
      "text/plain": [
       "0    37155\n",
       "1    11687\n",
       "Name: target_variable, dtype: int64"
      ]
     },
     "execution_count": 16,
     "metadata": {},
     "output_type": "execute_result"
    }
   ],
   "source": [
    "df1['target_variable'].value_counts()"
   ]
  },
  {
   "cell_type": "code",
   "execution_count": 17,
   "metadata": {},
   "outputs": [],
   "source": [
    "#One Hot Encoding"
   ]
  },
  {
   "cell_type": "code",
   "execution_count": 18,
   "metadata": {},
   "outputs": [],
   "source": [
    "dummies_relationship = pd.get_dummies(df1['relationship'], prefix = 'relationship')\n",
    "dummies_workclass = pd.get_dummies(df1['workclass'], prefix = 'workclass')\n",
    "dummies_education = pd.get_dummies(df1['education'], prefix = 'education')\n",
    "dummies_marital_status = pd.get_dummies(df1['marital_status'], prefix = 'marital_status')\n",
    "dummies_occupation = pd.get_dummies(df1['occupation'], prefix = 'occupation')\n",
    "dummies_race = pd.get_dummies(df1['race'], prefix = 'race')\n",
    "dummies_sex = pd.get_dummies(df1['sex'], prefix = 'sex')"
   ]
  },
  {
   "cell_type": "code",
   "execution_count": 19,
   "metadata": {},
   "outputs": [],
   "source": [
    "df1 = pd.concat([df1,dummies_relationship,dummies_workclass,dummies_education,\n",
    "                 dummies_marital_status,dummies_occupation,dummies_race,dummies_sex],axis = 1)"
   ]
  },
  {
   "cell_type": "code",
   "execution_count": 20,
   "metadata": {},
   "outputs": [],
   "source": [
    "df1.drop(['relationship','workclass', 'education', 'marital_status', 'occupation', 'race', 'sex',\n",
    "          'wage_class'], axis = 1, inplace = True)"
   ]
  },
  {
   "cell_type": "code",
   "execution_count": 21,
   "metadata": {},
   "outputs": [
    {
     "data": {
      "text/plain": [
       "(48842, 69)"
      ]
     },
     "execution_count": 21,
     "metadata": {},
     "output_type": "execute_result"
    }
   ],
   "source": [
    "df1.shape"
   ]
  },
  {
   "cell_type": "code",
   "execution_count": 22,
   "metadata": {},
   "outputs": [],
   "source": [
    "# consolidating all countries other than United States as 1 country.\n",
    "df1['country']= 0\n",
    "df1.loc[df1['native_country'] == ' United-States' ,'country'] = 1\n",
    "df1['country'].value_counts()\n",
    "df1.drop('native_country', axis = 1, inplace = True)"
   ]
  },
  {
   "cell_type": "code",
   "execution_count": 23,
   "metadata": {},
   "outputs": [],
   "source": [
    "#splitting the combined data into the final training and test set.\n",
    "final_train_set = df1[df1[\"train_ind\"] == 1]\n",
    "final_test_set = df1[df1[\"train_ind\"] == 0]"
   ]
  },
  {
   "cell_type": "code",
   "execution_count": 24,
   "metadata": {},
   "outputs": [
    {
     "name": "stderr",
     "output_type": "stream",
     "text": [
      "C:\\Users\\Home\\Anaconda3\\lib\\site-packages\\ipykernel_launcher.py:1: SettingWithCopyWarning: \n",
      "A value is trying to be set on a copy of a slice from a DataFrame\n",
      "\n",
      "See the caveats in the documentation: http://pandas.pydata.org/pandas-docs/stable/indexing.html#indexing-view-versus-copy\n",
      "  \"\"\"Entry point for launching an IPython kernel.\n",
      "C:\\Users\\Home\\Anaconda3\\lib\\site-packages\\ipykernel_launcher.py:2: SettingWithCopyWarning: \n",
      "A value is trying to be set on a copy of a slice from a DataFrame\n",
      "\n",
      "See the caveats in the documentation: http://pandas.pydata.org/pandas-docs/stable/indexing.html#indexing-view-versus-copy\n",
      "  \n"
     ]
    }
   ],
   "source": [
    "final_train_set.drop('train_ind', axis =1, inplace = True)\n",
    "final_test_set.drop('train_ind', axis =1, inplace = True)"
   ]
  },
  {
   "cell_type": "code",
   "execution_count": 25,
   "metadata": {},
   "outputs": [
    {
     "data": {
      "text/plain": [
       "(32561, 68)"
      ]
     },
     "execution_count": 25,
     "metadata": {},
     "output_type": "execute_result"
    }
   ],
   "source": [
    "final_train_set.shape"
   ]
  },
  {
   "cell_type": "code",
   "execution_count": 26,
   "metadata": {},
   "outputs": [
    {
     "data": {
      "text/plain": [
       "(16281, 68)"
      ]
     },
     "execution_count": 26,
     "metadata": {},
     "output_type": "execute_result"
    }
   ],
   "source": [
    "final_test_set.shape"
   ]
  },
  {
   "cell_type": "code",
   "execution_count": 27,
   "metadata": {},
   "outputs": [],
   "source": [
    "# Splitting the Training andvalidation set."
   ]
  },
  {
   "cell_type": "code",
   "execution_count": 28,
   "metadata": {},
   "outputs": [],
   "source": [
    "final_test_set_y = final_test_set.pop('target_variable')"
   ]
  },
  {
   "cell_type": "code",
   "execution_count": 29,
   "metadata": {},
   "outputs": [],
   "source": [
    "final_test_set_X = final_test_set"
   ]
  },
  {
   "cell_type": "code",
   "execution_count": 30,
   "metadata": {},
   "outputs": [],
   "source": [
    "y = final_train_set.pop('target_variable')"
   ]
  },
  {
   "cell_type": "code",
   "execution_count": 31,
   "metadata": {},
   "outputs": [],
   "source": [
    "X = final_train_set"
   ]
  },
  {
   "cell_type": "code",
   "execution_count": 32,
   "metadata": {},
   "outputs": [],
   "source": [
    "Xtrain, Xval, ytrain, yval = train_test_split(X, y, test_size = 0.2, random_state = 1982)"
   ]
  },
  {
   "cell_type": "code",
   "execution_count": null,
   "metadata": {},
   "outputs": [],
   "source": []
  },
  {
   "cell_type": "code",
   "execution_count": 33,
   "metadata": {},
   "outputs": [],
   "source": [
    "#implementing XGBoost method on the training and validation set and comparing the auc values against the Test set."
   ]
  },
  {
   "cell_type": "code",
   "execution_count": 34,
   "metadata": {},
   "outputs": [],
   "source": [
    "xgtrain = xgb.DMatrix(Xtrain, label = ytrain)\n",
    "xgval = xgb.DMatrix(Xval, label = yval)\n",
    "xgtest = xgb.DMatrix(final_test_set_X)"
   ]
  },
  {
   "cell_type": "code",
   "execution_count": 35,
   "metadata": {},
   "outputs": [],
   "source": [
    "watchlist = [(xgtrain,'train'),(xgval, 'eval')]"
   ]
  },
  {
   "cell_type": "code",
   "execution_count": 36,
   "metadata": {},
   "outputs": [],
   "source": [
    "params = {}\n",
    "params[\"objective\"] =  \"binary:logistic\"\n",
    "params[\"booster\"] = \"gbtree\"\n",
    "params[\"max_depth\"] = 7\n",
    "params[\"eval_metric\"] = 'auc'\n",
    "params[\"subsample\"] = 0.9\n",
    "params[\"colsample_bytree\"] = 0.9\n",
    "params[\"silent\"] = 1\n",
    "params[\"seed\"] = 4\n",
    "params[\"eta\"] = 0.1\n",
    "\n",
    "plst = list(params.items())"
   ]
  },
  {
   "cell_type": "code",
   "execution_count": 37,
   "metadata": {},
   "outputs": [
    {
     "name": "stdout",
     "output_type": "stream",
     "text": [
      "[0]\ttrain-auc:0.907192\teval-auc:0.89853\n",
      "Multiple eval metrics have been passed: 'eval-auc' will be used for early stopping.\n",
      "\n",
      "Will train until eval-auc hasn't improved in 10 rounds.\n",
      "[1]\ttrain-auc:0.909089\teval-auc:0.899711\n",
      "[2]\ttrain-auc:0.916455\teval-auc:0.906834\n",
      "[3]\ttrain-auc:0.916949\teval-auc:0.907187\n",
      "[4]\ttrain-auc:0.918477\teval-auc:0.908451\n",
      "[5]\ttrain-auc:0.920223\teval-auc:0.910784\n",
      "[6]\ttrain-auc:0.920477\teval-auc:0.910036\n",
      "[7]\ttrain-auc:0.921532\teval-auc:0.911106\n",
      "[8]\ttrain-auc:0.922063\teval-auc:0.911469\n",
      "[9]\ttrain-auc:0.922357\teval-auc:0.911525\n",
      "[10]\ttrain-auc:0.923359\teval-auc:0.912061\n",
      "[11]\ttrain-auc:0.924452\teval-auc:0.912493\n",
      "[12]\ttrain-auc:0.924947\teval-auc:0.912952\n",
      "[13]\ttrain-auc:0.925404\teval-auc:0.913145\n",
      "[14]\ttrain-auc:0.925752\teval-auc:0.913346\n",
      "[15]\ttrain-auc:0.926366\teval-auc:0.913575\n",
      "[16]\ttrain-auc:0.926849\teval-auc:0.914162\n",
      "[17]\ttrain-auc:0.927316\teval-auc:0.914654\n",
      "[18]\ttrain-auc:0.927868\teval-auc:0.914761\n",
      "[19]\ttrain-auc:0.928212\teval-auc:0.914949\n",
      "[20]\ttrain-auc:0.928706\teval-auc:0.915076\n",
      "[21]\ttrain-auc:0.929071\teval-auc:0.915406\n",
      "[22]\ttrain-auc:0.929658\teval-auc:0.915469\n",
      "[23]\ttrain-auc:0.929951\teval-auc:0.91581\n",
      "[24]\ttrain-auc:0.930482\teval-auc:0.915961\n",
      "[25]\ttrain-auc:0.931217\teval-auc:0.916664\n",
      "[26]\ttrain-auc:0.931657\teval-auc:0.917024\n",
      "[27]\ttrain-auc:0.932036\teval-auc:0.917252\n",
      "[28]\ttrain-auc:0.932436\teval-auc:0.917454\n",
      "[29]\ttrain-auc:0.932769\teval-auc:0.917595\n",
      "[30]\ttrain-auc:0.93297\teval-auc:0.917696\n",
      "[31]\ttrain-auc:0.933611\teval-auc:0.918105\n",
      "[32]\ttrain-auc:0.933996\teval-auc:0.918281\n",
      "[33]\ttrain-auc:0.934141\teval-auc:0.918381\n",
      "[34]\ttrain-auc:0.934322\teval-auc:0.918411\n",
      "[35]\ttrain-auc:0.934989\teval-auc:0.919196\n",
      "[36]\ttrain-auc:0.935459\teval-auc:0.919172\n",
      "[37]\ttrain-auc:0.935707\teval-auc:0.919322\n",
      "[38]\ttrain-auc:0.936016\teval-auc:0.919445\n",
      "[39]\ttrain-auc:0.936309\teval-auc:0.919616\n",
      "[40]\ttrain-auc:0.936534\teval-auc:0.919594\n",
      "[41]\ttrain-auc:0.936899\teval-auc:0.919753\n",
      "[42]\ttrain-auc:0.937185\teval-auc:0.919791\n",
      "[43]\ttrain-auc:0.937708\teval-auc:0.920379\n",
      "[44]\ttrain-auc:0.938192\teval-auc:0.920427\n",
      "[45]\ttrain-auc:0.938435\teval-auc:0.920538\n",
      "[46]\ttrain-auc:0.93886\teval-auc:0.921037\n",
      "[47]\ttrain-auc:0.9394\teval-auc:0.921298\n",
      "[48]\ttrain-auc:0.939829\teval-auc:0.921356\n",
      "[49]\ttrain-auc:0.940049\teval-auc:0.921523\n",
      "[50]\ttrain-auc:0.940329\teval-auc:0.921647\n",
      "[51]\ttrain-auc:0.940688\teval-auc:0.92201\n",
      "[52]\ttrain-auc:0.940901\teval-auc:0.922075\n",
      "[53]\ttrain-auc:0.941389\teval-auc:0.922097\n",
      "[54]\ttrain-auc:0.941725\teval-auc:0.922257\n",
      "[55]\ttrain-auc:0.942011\teval-auc:0.922287\n",
      "[56]\ttrain-auc:0.94224\teval-auc:0.922273\n",
      "[57]\ttrain-auc:0.942502\teval-auc:0.922625\n",
      "[58]\ttrain-auc:0.942755\teval-auc:0.922976\n",
      "[59]\ttrain-auc:0.943023\teval-auc:0.922947\n",
      "[60]\ttrain-auc:0.943253\teval-auc:0.923049\n",
      "[61]\ttrain-auc:0.943582\teval-auc:0.923136\n",
      "[62]\ttrain-auc:0.943678\teval-auc:0.923204\n",
      "[63]\ttrain-auc:0.944023\teval-auc:0.923315\n",
      "[64]\ttrain-auc:0.944121\teval-auc:0.923371\n",
      "[65]\ttrain-auc:0.944447\teval-auc:0.923412\n",
      "[66]\ttrain-auc:0.944788\teval-auc:0.923461\n",
      "[67]\ttrain-auc:0.945156\teval-auc:0.923572\n",
      "[68]\ttrain-auc:0.945302\teval-auc:0.92369\n",
      "[69]\ttrain-auc:0.945632\teval-auc:0.923699\n",
      "[70]\ttrain-auc:0.945821\teval-auc:0.92392\n",
      "[71]\ttrain-auc:0.946147\teval-auc:0.92401\n",
      "[72]\ttrain-auc:0.946365\teval-auc:0.924188\n",
      "[73]\ttrain-auc:0.946533\teval-auc:0.924239\n",
      "[74]\ttrain-auc:0.946806\teval-auc:0.924324\n",
      "[75]\ttrain-auc:0.947067\teval-auc:0.924386\n",
      "[76]\ttrain-auc:0.947244\teval-auc:0.924604\n",
      "[77]\ttrain-auc:0.947337\teval-auc:0.924655\n",
      "[78]\ttrain-auc:0.947613\teval-auc:0.924778\n",
      "[79]\ttrain-auc:0.947753\teval-auc:0.924843\n",
      "[80]\ttrain-auc:0.947854\teval-auc:0.924999\n",
      "[81]\ttrain-auc:0.94808\teval-auc:0.924953\n",
      "[82]\ttrain-auc:0.948374\teval-auc:0.924978\n",
      "[83]\ttrain-auc:0.948573\teval-auc:0.925105\n",
      "[84]\ttrain-auc:0.948767\teval-auc:0.925087\n",
      "[85]\ttrain-auc:0.948807\teval-auc:0.925105\n",
      "[86]\ttrain-auc:0.948981\teval-auc:0.925158\n",
      "[87]\ttrain-auc:0.949157\teval-auc:0.925187\n",
      "[88]\ttrain-auc:0.949257\teval-auc:0.925206\n",
      "[89]\ttrain-auc:0.949372\teval-auc:0.925233\n",
      "[90]\ttrain-auc:0.949607\teval-auc:0.925265\n",
      "[91]\ttrain-auc:0.949771\teval-auc:0.92525\n",
      "[92]\ttrain-auc:0.95\teval-auc:0.92535\n",
      "[93]\ttrain-auc:0.950193\teval-auc:0.925409\n",
      "[94]\ttrain-auc:0.950481\teval-auc:0.925453\n",
      "[95]\ttrain-auc:0.95057\teval-auc:0.925512\n",
      "[96]\ttrain-auc:0.95067\teval-auc:0.925658\n",
      "[97]\ttrain-auc:0.95092\teval-auc:0.925637\n",
      "[98]\ttrain-auc:0.951027\teval-auc:0.925646\n",
      "[99]\ttrain-auc:0.951154\teval-auc:0.9257\n",
      "[100]\ttrain-auc:0.951374\teval-auc:0.925834\n",
      "[101]\ttrain-auc:0.951561\teval-auc:0.925824\n",
      "[102]\ttrain-auc:0.95162\teval-auc:0.925941\n",
      "[103]\ttrain-auc:0.95169\teval-auc:0.926055\n",
      "[104]\ttrain-auc:0.951767\teval-auc:0.926107\n",
      "[105]\ttrain-auc:0.951949\teval-auc:0.926036\n",
      "[106]\ttrain-auc:0.952166\teval-auc:0.926105\n",
      "[107]\ttrain-auc:0.952305\teval-auc:0.926084\n",
      "[108]\ttrain-auc:0.952518\teval-auc:0.926155\n",
      "[109]\ttrain-auc:0.952768\teval-auc:0.926216\n",
      "[110]\ttrain-auc:0.953029\teval-auc:0.926278\n",
      "[111]\ttrain-auc:0.953086\teval-auc:0.926324\n",
      "[112]\ttrain-auc:0.953195\teval-auc:0.926314\n",
      "[113]\ttrain-auc:0.953342\teval-auc:0.926302\n",
      "[114]\ttrain-auc:0.953553\teval-auc:0.926235\n",
      "[115]\ttrain-auc:0.953643\teval-auc:0.92619\n",
      "[116]\ttrain-auc:0.953861\teval-auc:0.926137\n",
      "[117]\ttrain-auc:0.954021\teval-auc:0.926167\n",
      "[118]\ttrain-auc:0.954227\teval-auc:0.9262\n",
      "[119]\ttrain-auc:0.954497\teval-auc:0.926277\n",
      "[120]\ttrain-auc:0.954666\teval-auc:0.9262\n",
      "[121]\ttrain-auc:0.954779\teval-auc:0.92618\n",
      "Stopping. Best iteration:\n",
      "[111]\ttrain-auc:0.953086\teval-auc:0.926324\n",
      "\n"
     ]
    }
   ],
   "source": [
    "num_rounds = 500\n",
    "model_cv = xgb.train(plst, xgtrain, num_rounds, evals = watchlist, early_stopping_rounds = 10, \n",
    "                     verbose_eval = True)"
   ]
  },
  {
   "cell_type": "markdown",
   "metadata": {},
   "source": [
    "<b>We are getting an AUC value of 92.6% for the test set.</b>"
   ]
  },
  {
   "cell_type": "code",
   "execution_count": 53,
   "metadata": {},
   "outputs": [],
   "source": [
    "test_pred = model_cv.predict(xgtest, ntree_limit=model_cv.best_ntree_limit)"
   ]
  },
  {
   "cell_type": "code",
   "execution_count": 54,
   "metadata": {},
   "outputs": [
    {
     "name": "stdout",
     "output_type": "stream",
     "text": [
      "0.9275510240353322\n"
     ]
    }
   ],
   "source": [
    "print(roc_auc_score(final_test_set_y,test_pred))"
   ]
  },
  {
   "cell_type": "markdown",
   "metadata": {},
   "source": [
    "<b>Final check against the final_test_set and we are getting a final AUC value of 92.75% which proves the model is robust.</b>"
   ]
  }
 ],
 "metadata": {
  "kernelspec": {
   "display_name": "Python 3",
   "language": "python",
   "name": "python3"
  },
  "language_info": {
   "codemirror_mode": {
    "name": "ipython",
    "version": 3
   },
   "file_extension": ".py",
   "mimetype": "text/x-python",
   "name": "python",
   "nbconvert_exporter": "python",
   "pygments_lexer": "ipython3",
   "version": "3.6.4"
  }
 },
 "nbformat": 4,
 "nbformat_minor": 2
}
